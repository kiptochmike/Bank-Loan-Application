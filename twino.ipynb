{
 "cells": [
  {
   "cell_type": "markdown",
   "metadata": {},
   "source": [
    "## Loan Applications"
   ]
  },
  {
   "cell_type": "markdown",
   "metadata": {},
   "source": [
    "#### 1. Business Understanding\n",
    "\n",
    "### a. Introduction\n",
    "In the financial industry, loan applications undergo a rigorous manual review process to determine whether they should be approved or rejected. This process involves significant labor costs and time, as human reviewers meticulously evaluate each application based on various characteristics and criteria. Given the substantial volume of applications, there is a growing need for an automated solution that can efficiently and accurately predict the outcome of loan applications, thereby reducing labor costs and improving decision-making speed.\n",
    "\n",
    "-------------------------------------------------------------------------------------\n",
    "### b. Problem Statement\n",
    "The manual evaluation of loan applications is costly and resource-intensive, requiring significant human labor and time. As the volume of applications grows, the need for more staff increases, escalating costs further. This process also risks variability and inconsistency in decisions. Therefore, there is a need for an automated solution to efficiently and accurately evaluate loan applications, reducing labor costs and minimizing human error.\n",
    "\n",
    "------------------------------------------------------------------------------------\n",
    "### c. Objective\n",
    "#### Main Objective\n",
    "- To create a machine learning model that would automatically reject or approve loan applications.\n",
    "\n",
    "#### Specific Objectives\n",
    "- Develop a machine learning model to predict the AR target variable.\n",
    "- Determine optimal probability thresholds for automatically rejecting or approving loan applications to minimize labor costs and losses from incorrect decisions.\n",
    "- Provide a concise description of the prediction model and the variables used.\n",
    "- Summarize the business impact, including cost and loss differences, if the model were implemented in live decisions, using appropriate visualizations.\n",
    "\n",
    "\n",
    "\n",
    "\n"
   ]
  },
  {
   "cell_type": "markdown",
   "metadata": {},
   "source": [
    "### Import Libraries"
   ]
  },
  {
   "cell_type": "code",
   "execution_count": 104,
   "metadata": {},
   "outputs": [],
   "source": [
    "import pandas as pd\n",
    "import numpy as np\n",
    "import matplotlib.pyplot as plt\n",
    "import seaborn as sns\n",
    "\n",
    "\n",
    "from warnings import filterwarnings\n",
    "filterwarnings(action='ignore')"
   ]
  },
  {
   "cell_type": "code",
   "execution_count": 105,
   "metadata": {},
   "outputs": [
    {
     "data": {
      "text/html": [
       "<div>\n",
       "<style scoped>\n",
       "    .dataframe tbody tr th:only-of-type {\n",
       "        vertical-align: middle;\n",
       "    }\n",
       "\n",
       "    .dataframe tbody tr th {\n",
       "        vertical-align: top;\n",
       "    }\n",
       "\n",
       "    .dataframe thead th {\n",
       "        text-align: right;\n",
       "    }\n",
       "</style>\n",
       "<table border=\"1\" class=\"dataframe\">\n",
       "  <thead>\n",
       "    <tr style=\"text-align: right;\">\n",
       "      <th></th>\n",
       "      <th>application_id</th>\n",
       "      <th>AR</th>\n",
       "      <th>payment_method</th>\n",
       "      <th>client_first_lapp_mark</th>\n",
       "      <th>client_first_manual_lapp_mark</th>\n",
       "      <th>warning_count</th>\n",
       "      <th>address_check_1</th>\n",
       "      <th>address_check_2</th>\n",
       "      <th>address_check_3</th>\n",
       "      <th>address_check_4</th>\n",
       "      <th>...</th>\n",
       "      <th>other_29</th>\n",
       "      <th>data_quality_30</th>\n",
       "      <th>other_31</th>\n",
       "      <th>data_quality_32</th>\n",
       "      <th>data_quality_33</th>\n",
       "      <th>data_quality_34</th>\n",
       "      <th>data_quality_35</th>\n",
       "      <th>other_36</th>\n",
       "      <th>accounts_check_37</th>\n",
       "      <th>accounts_check_38</th>\n",
       "    </tr>\n",
       "  </thead>\n",
       "  <tbody>\n",
       "    <tr>\n",
       "      <th>0</th>\n",
       "      <td>1</td>\n",
       "      <td>0</td>\n",
       "      <td>METHOD1</td>\n",
       "      <td>Yes</td>\n",
       "      <td>Yes</td>\n",
       "      <td>2</td>\n",
       "      <td>False</td>\n",
       "      <td>False</td>\n",
       "      <td>False</td>\n",
       "      <td>False</td>\n",
       "      <td>...</td>\n",
       "      <td>False</td>\n",
       "      <td>False</td>\n",
       "      <td>False</td>\n",
       "      <td>False</td>\n",
       "      <td>False</td>\n",
       "      <td>False</td>\n",
       "      <td>False</td>\n",
       "      <td>False</td>\n",
       "      <td>False</td>\n",
       "      <td>False</td>\n",
       "    </tr>\n",
       "    <tr>\n",
       "      <th>1</th>\n",
       "      <td>2</td>\n",
       "      <td>0</td>\n",
       "      <td>METHOD1</td>\n",
       "      <td>No</td>\n",
       "      <td>Yes</td>\n",
       "      <td>2</td>\n",
       "      <td>False</td>\n",
       "      <td>False</td>\n",
       "      <td>False</td>\n",
       "      <td>False</td>\n",
       "      <td>...</td>\n",
       "      <td>False</td>\n",
       "      <td>False</td>\n",
       "      <td>False</td>\n",
       "      <td>False</td>\n",
       "      <td>False</td>\n",
       "      <td>False</td>\n",
       "      <td>False</td>\n",
       "      <td>False</td>\n",
       "      <td>False</td>\n",
       "      <td>False</td>\n",
       "    </tr>\n",
       "    <tr>\n",
       "      <th>2</th>\n",
       "      <td>3</td>\n",
       "      <td>0</td>\n",
       "      <td>METHOD1</td>\n",
       "      <td>No</td>\n",
       "      <td>Yes</td>\n",
       "      <td>6</td>\n",
       "      <td>False</td>\n",
       "      <td>False</td>\n",
       "      <td>False</td>\n",
       "      <td>False</td>\n",
       "      <td>...</td>\n",
       "      <td>False</td>\n",
       "      <td>False</td>\n",
       "      <td>False</td>\n",
       "      <td>False</td>\n",
       "      <td>False</td>\n",
       "      <td>False</td>\n",
       "      <td>False</td>\n",
       "      <td>False</td>\n",
       "      <td>False</td>\n",
       "      <td>False</td>\n",
       "    </tr>\n",
       "    <tr>\n",
       "      <th>3</th>\n",
       "      <td>4</td>\n",
       "      <td>0</td>\n",
       "      <td>METHOD1</td>\n",
       "      <td>No</td>\n",
       "      <td>Yes</td>\n",
       "      <td>7</td>\n",
       "      <td>False</td>\n",
       "      <td>False</td>\n",
       "      <td>False</td>\n",
       "      <td>False</td>\n",
       "      <td>...</td>\n",
       "      <td>False</td>\n",
       "      <td>False</td>\n",
       "      <td>False</td>\n",
       "      <td>False</td>\n",
       "      <td>False</td>\n",
       "      <td>False</td>\n",
       "      <td>False</td>\n",
       "      <td>False</td>\n",
       "      <td>False</td>\n",
       "      <td>False</td>\n",
       "    </tr>\n",
       "    <tr>\n",
       "      <th>4</th>\n",
       "      <td>5</td>\n",
       "      <td>0</td>\n",
       "      <td>METHOD1</td>\n",
       "      <td>No</td>\n",
       "      <td>No</td>\n",
       "      <td>5</td>\n",
       "      <td>False</td>\n",
       "      <td>False</td>\n",
       "      <td>False</td>\n",
       "      <td>False</td>\n",
       "      <td>...</td>\n",
       "      <td>False</td>\n",
       "      <td>False</td>\n",
       "      <td>False</td>\n",
       "      <td>False</td>\n",
       "      <td>True</td>\n",
       "      <td>False</td>\n",
       "      <td>False</td>\n",
       "      <td>False</td>\n",
       "      <td>False</td>\n",
       "      <td>False</td>\n",
       "    </tr>\n",
       "    <tr>\n",
       "      <th>5</th>\n",
       "      <td>6</td>\n",
       "      <td>0</td>\n",
       "      <td>METHOD1</td>\n",
       "      <td>Yes</td>\n",
       "      <td>Yes</td>\n",
       "      <td>1</td>\n",
       "      <td>False</td>\n",
       "      <td>False</td>\n",
       "      <td>False</td>\n",
       "      <td>False</td>\n",
       "      <td>...</td>\n",
       "      <td>False</td>\n",
       "      <td>False</td>\n",
       "      <td>False</td>\n",
       "      <td>False</td>\n",
       "      <td>False</td>\n",
       "      <td>False</td>\n",
       "      <td>False</td>\n",
       "      <td>False</td>\n",
       "      <td>False</td>\n",
       "      <td>False</td>\n",
       "    </tr>\n",
       "    <tr>\n",
       "      <th>6</th>\n",
       "      <td>7</td>\n",
       "      <td>1</td>\n",
       "      <td>METHOD1</td>\n",
       "      <td>Yes</td>\n",
       "      <td>Yes</td>\n",
       "      <td>11</td>\n",
       "      <td>False</td>\n",
       "      <td>False</td>\n",
       "      <td>False</td>\n",
       "      <td>False</td>\n",
       "      <td>...</td>\n",
       "      <td>False</td>\n",
       "      <td>True</td>\n",
       "      <td>False</td>\n",
       "      <td>True</td>\n",
       "      <td>False</td>\n",
       "      <td>False</td>\n",
       "      <td>False</td>\n",
       "      <td>False</td>\n",
       "      <td>False</td>\n",
       "      <td>False</td>\n",
       "    </tr>\n",
       "    <tr>\n",
       "      <th>7</th>\n",
       "      <td>8</td>\n",
       "      <td>1</td>\n",
       "      <td>METHOD1</td>\n",
       "      <td>Yes</td>\n",
       "      <td>Yes</td>\n",
       "      <td>7</td>\n",
       "      <td>False</td>\n",
       "      <td>False</td>\n",
       "      <td>False</td>\n",
       "      <td>False</td>\n",
       "      <td>...</td>\n",
       "      <td>False</td>\n",
       "      <td>False</td>\n",
       "      <td>False</td>\n",
       "      <td>False</td>\n",
       "      <td>False</td>\n",
       "      <td>False</td>\n",
       "      <td>False</td>\n",
       "      <td>False</td>\n",
       "      <td>False</td>\n",
       "      <td>False</td>\n",
       "    </tr>\n",
       "    <tr>\n",
       "      <th>8</th>\n",
       "      <td>9</td>\n",
       "      <td>1</td>\n",
       "      <td>METHOD1</td>\n",
       "      <td>Yes</td>\n",
       "      <td>Yes</td>\n",
       "      <td>6</td>\n",
       "      <td>False</td>\n",
       "      <td>False</td>\n",
       "      <td>False</td>\n",
       "      <td>False</td>\n",
       "      <td>...</td>\n",
       "      <td>False</td>\n",
       "      <td>False</td>\n",
       "      <td>False</td>\n",
       "      <td>False</td>\n",
       "      <td>True</td>\n",
       "      <td>False</td>\n",
       "      <td>False</td>\n",
       "      <td>False</td>\n",
       "      <td>False</td>\n",
       "      <td>True</td>\n",
       "    </tr>\n",
       "    <tr>\n",
       "      <th>9</th>\n",
       "      <td>10</td>\n",
       "      <td>1</td>\n",
       "      <td>METHOD1</td>\n",
       "      <td>No</td>\n",
       "      <td>Yes</td>\n",
       "      <td>4</td>\n",
       "      <td>False</td>\n",
       "      <td>False</td>\n",
       "      <td>False</td>\n",
       "      <td>False</td>\n",
       "      <td>...</td>\n",
       "      <td>False</td>\n",
       "      <td>False</td>\n",
       "      <td>False</td>\n",
       "      <td>True</td>\n",
       "      <td>False</td>\n",
       "      <td>False</td>\n",
       "      <td>False</td>\n",
       "      <td>False</td>\n",
       "      <td>False</td>\n",
       "      <td>False</td>\n",
       "    </tr>\n",
       "  </tbody>\n",
       "</table>\n",
       "<p>10 rows × 44 columns</p>\n",
       "</div>"
      ],
      "text/plain": [
       "   application_id  AR payment_method client_first_lapp_mark  \\\n",
       "0               1   0        METHOD1                    Yes   \n",
       "1               2   0        METHOD1                     No   \n",
       "2               3   0        METHOD1                     No   \n",
       "3               4   0        METHOD1                     No   \n",
       "4               5   0        METHOD1                     No   \n",
       "5               6   0        METHOD1                    Yes   \n",
       "6               7   1        METHOD1                    Yes   \n",
       "7               8   1        METHOD1                    Yes   \n",
       "8               9   1        METHOD1                    Yes   \n",
       "9              10   1        METHOD1                     No   \n",
       "\n",
       "  client_first_manual_lapp_mark  warning_count  address_check_1  \\\n",
       "0                           Yes              2            False   \n",
       "1                           Yes              2            False   \n",
       "2                           Yes              6            False   \n",
       "3                           Yes              7            False   \n",
       "4                            No              5            False   \n",
       "5                           Yes              1            False   \n",
       "6                           Yes             11            False   \n",
       "7                           Yes              7            False   \n",
       "8                           Yes              6            False   \n",
       "9                           Yes              4            False   \n",
       "\n",
       "   address_check_2  address_check_3  address_check_4  ...  other_29  \\\n",
       "0            False            False            False  ...     False   \n",
       "1            False            False            False  ...     False   \n",
       "2            False            False            False  ...     False   \n",
       "3            False            False            False  ...     False   \n",
       "4            False            False            False  ...     False   \n",
       "5            False            False            False  ...     False   \n",
       "6            False            False            False  ...     False   \n",
       "7            False            False            False  ...     False   \n",
       "8            False            False            False  ...     False   \n",
       "9            False            False            False  ...     False   \n",
       "\n",
       "   data_quality_30  other_31  data_quality_32  data_quality_33  \\\n",
       "0            False     False            False            False   \n",
       "1            False     False            False            False   \n",
       "2            False     False            False            False   \n",
       "3            False     False            False            False   \n",
       "4            False     False            False             True   \n",
       "5            False     False            False            False   \n",
       "6             True     False             True            False   \n",
       "7            False     False            False            False   \n",
       "8            False     False            False             True   \n",
       "9            False     False             True            False   \n",
       "\n",
       "   data_quality_34  data_quality_35  other_36  accounts_check_37  \\\n",
       "0            False            False     False              False   \n",
       "1            False            False     False              False   \n",
       "2            False            False     False              False   \n",
       "3            False            False     False              False   \n",
       "4            False            False     False              False   \n",
       "5            False            False     False              False   \n",
       "6            False            False     False              False   \n",
       "7            False            False     False              False   \n",
       "8            False            False     False              False   \n",
       "9            False            False     False              False   \n",
       "\n",
       "   accounts_check_38  \n",
       "0              False  \n",
       "1              False  \n",
       "2              False  \n",
       "3              False  \n",
       "4              False  \n",
       "5              False  \n",
       "6              False  \n",
       "7              False  \n",
       "8               True  \n",
       "9              False  \n",
       "\n",
       "[10 rows x 44 columns]"
      ]
     },
     "execution_count": 105,
     "metadata": {},
     "output_type": "execute_result"
    }
   ],
   "source": [
    "# Loading the dataset\n",
    "loan = pd.read_csv('Twino_data.csv')\n",
    "loan.head(10)"
   ]
  },
  {
   "cell_type": "code",
   "execution_count": 106,
   "metadata": {},
   "outputs": [
    {
     "name": "stdout",
     "output_type": "stream",
     "text": [
      "<class 'pandas.core.frame.DataFrame'>\n",
      "RangeIndex: 9898 entries, 0 to 9897\n",
      "Data columns (total 44 columns):\n",
      " #   Column                         Non-Null Count  Dtype \n",
      "---  ------                         --------------  ----- \n",
      " 0   application_id                 9898 non-null   int64 \n",
      " 1   AR                             9898 non-null   int64 \n",
      " 2   payment_method                 9898 non-null   object\n",
      " 3   client_first_lapp_mark         9898 non-null   object\n",
      " 4   client_first_manual_lapp_mark  9898 non-null   object\n",
      " 5   warning_count                  9898 non-null   int64 \n",
      " 6   address_check_1                9898 non-null   bool  \n",
      " 7   address_check_2                9898 non-null   bool  \n",
      " 8   address_check_3                9898 non-null   bool  \n",
      " 9   address_check_4                9898 non-null   bool  \n",
      " 10  accounts_check_5               9898 non-null   bool  \n",
      " 11  accounts_check_6               9898 non-null   bool  \n",
      " 12  data_comparison_7              9898 non-null   bool  \n",
      " 13  data_comparison_8              9898 non-null   bool  \n",
      " 14  data_comparison_9              9898 non-null   bool  \n",
      " 15  data_comparison_10             9898 non-null   bool  \n",
      " 16  data_comparison_11             9898 non-null   bool  \n",
      " 17  data_comparison_12             9898 non-null   bool  \n",
      " 18  data_comparison_13             9898 non-null   bool  \n",
      " 19  data_comparison_14             9898 non-null   bool  \n",
      " 20  data_comparison_15             9898 non-null   bool  \n",
      " 21  creditcard_check_16            9898 non-null   bool  \n",
      " 22  creditcard_check_17            9898 non-null   bool  \n",
      " 23  creditcard_check_18            9898 non-null   bool  \n",
      " 24  data_quality_19                9898 non-null   bool  \n",
      " 25  data_quality_20                9898 non-null   bool  \n",
      " 26  other_21                       9898 non-null   bool  \n",
      " 27  other_22                       9898 non-null   bool  \n",
      " 28  data_quality_23                9898 non-null   bool  \n",
      " 29  data_quality_24                9898 non-null   bool  \n",
      " 30  data_quality_25                9898 non-null   bool  \n",
      " 31  data_quality_26                9898 non-null   bool  \n",
      " 32  data_quality_27                9898 non-null   bool  \n",
      " 33  data_quality_28                9898 non-null   bool  \n",
      " 34  other_29                       9898 non-null   bool  \n",
      " 35  data_quality_30                9898 non-null   bool  \n",
      " 36  other_31                       9898 non-null   bool  \n",
      " 37  data_quality_32                9898 non-null   bool  \n",
      " 38  data_quality_33                9898 non-null   bool  \n",
      " 39  data_quality_34                9898 non-null   bool  \n",
      " 40  data_quality_35                9898 non-null   bool  \n",
      " 41  other_36                       9898 non-null   bool  \n",
      " 42  accounts_check_37              9898 non-null   bool  \n",
      " 43  accounts_check_38              9898 non-null   bool  \n",
      "dtypes: bool(38), int64(3), object(3)\n",
      "memory usage: 831.4+ KB\n"
     ]
    }
   ],
   "source": [
    "# a summary of the dataset\n",
    "loan.info()"
   ]
  },
  {
   "cell_type": "markdown",
   "metadata": {},
   "source": [
    "#### Data Cleaning"
   ]
  },
  {
   "cell_type": "code",
   "execution_count": 107,
   "metadata": {},
   "outputs": [
    {
     "data": {
      "text/plain": [
       "application_id                   0\n",
       "AR                               0\n",
       "payment_method                   0\n",
       "client_first_lapp_mark           0\n",
       "client_first_manual_lapp_mark    0\n",
       "warning_count                    0\n",
       "address_check_1                  0\n",
       "address_check_2                  0\n",
       "address_check_3                  0\n",
       "address_check_4                  0\n",
       "accounts_check_5                 0\n",
       "accounts_check_6                 0\n",
       "data_comparison_7                0\n",
       "data_comparison_8                0\n",
       "data_comparison_9                0\n",
       "data_comparison_10               0\n",
       "data_comparison_11               0\n",
       "data_comparison_12               0\n",
       "data_comparison_13               0\n",
       "data_comparison_14               0\n",
       "data_comparison_15               0\n",
       "creditcard_check_16              0\n",
       "creditcard_check_17              0\n",
       "creditcard_check_18              0\n",
       "data_quality_19                  0\n",
       "data_quality_20                  0\n",
       "other_21                         0\n",
       "other_22                         0\n",
       "data_quality_23                  0\n",
       "data_quality_24                  0\n",
       "data_quality_25                  0\n",
       "data_quality_26                  0\n",
       "data_quality_27                  0\n",
       "data_quality_28                  0\n",
       "other_29                         0\n",
       "data_quality_30                  0\n",
       "other_31                         0\n",
       "data_quality_32                  0\n",
       "data_quality_33                  0\n",
       "data_quality_34                  0\n",
       "data_quality_35                  0\n",
       "other_36                         0\n",
       "accounts_check_37                0\n",
       "accounts_check_38                0\n",
       "dtype: int64"
      ]
     },
     "execution_count": 107,
     "metadata": {},
     "output_type": "execute_result"
    }
   ],
   "source": [
    "\n",
    "# Checking for missing values\n",
    "loan.isnull().sum()"
   ]
  },
  {
   "cell_type": "code",
   "execution_count": 108,
   "metadata": {},
   "outputs": [
    {
     "data": {
      "text/plain": [
       "0"
      ]
     },
     "execution_count": 108,
     "metadata": {},
     "output_type": "execute_result"
    }
   ],
   "source": [
    "# Checking for duplicates\n",
    "duplicates = loan.duplicated().sum()\n",
    "duplicates"
   ]
  },
  {
   "cell_type": "code",
   "execution_count": 109,
   "metadata": {},
   "outputs": [
    {
     "data": {
      "text/html": [
       "<div>\n",
       "<style scoped>\n",
       "    .dataframe tbody tr th:only-of-type {\n",
       "        vertical-align: middle;\n",
       "    }\n",
       "\n",
       "    .dataframe tbody tr th {\n",
       "        vertical-align: top;\n",
       "    }\n",
       "\n",
       "    .dataframe thead th {\n",
       "        text-align: right;\n",
       "    }\n",
       "</style>\n",
       "<table border=\"1\" class=\"dataframe\">\n",
       "  <thead>\n",
       "    <tr style=\"text-align: right;\">\n",
       "      <th></th>\n",
       "      <th>AR</th>\n",
       "      <th>payment_method</th>\n",
       "      <th>client_first_lapp_mark</th>\n",
       "      <th>client_first_manual_lapp_mark</th>\n",
       "      <th>warning_count</th>\n",
       "      <th>address_check_1</th>\n",
       "      <th>address_check_2</th>\n",
       "      <th>address_check_3</th>\n",
       "      <th>address_check_4</th>\n",
       "      <th>accounts_check_5</th>\n",
       "      <th>...</th>\n",
       "      <th>other_29</th>\n",
       "      <th>data_quality_30</th>\n",
       "      <th>other_31</th>\n",
       "      <th>data_quality_32</th>\n",
       "      <th>data_quality_33</th>\n",
       "      <th>data_quality_34</th>\n",
       "      <th>data_quality_35</th>\n",
       "      <th>other_36</th>\n",
       "      <th>accounts_check_37</th>\n",
       "      <th>accounts_check_38</th>\n",
       "    </tr>\n",
       "  </thead>\n",
       "  <tbody>\n",
       "    <tr>\n",
       "      <th>0</th>\n",
       "      <td>0</td>\n",
       "      <td>METHOD1</td>\n",
       "      <td>Yes</td>\n",
       "      <td>Yes</td>\n",
       "      <td>2</td>\n",
       "      <td>False</td>\n",
       "      <td>False</td>\n",
       "      <td>False</td>\n",
       "      <td>False</td>\n",
       "      <td>False</td>\n",
       "      <td>...</td>\n",
       "      <td>False</td>\n",
       "      <td>False</td>\n",
       "      <td>False</td>\n",
       "      <td>False</td>\n",
       "      <td>False</td>\n",
       "      <td>False</td>\n",
       "      <td>False</td>\n",
       "      <td>False</td>\n",
       "      <td>False</td>\n",
       "      <td>False</td>\n",
       "    </tr>\n",
       "    <tr>\n",
       "      <th>1</th>\n",
       "      <td>0</td>\n",
       "      <td>METHOD1</td>\n",
       "      <td>No</td>\n",
       "      <td>Yes</td>\n",
       "      <td>2</td>\n",
       "      <td>False</td>\n",
       "      <td>False</td>\n",
       "      <td>False</td>\n",
       "      <td>False</td>\n",
       "      <td>False</td>\n",
       "      <td>...</td>\n",
       "      <td>False</td>\n",
       "      <td>False</td>\n",
       "      <td>False</td>\n",
       "      <td>False</td>\n",
       "      <td>False</td>\n",
       "      <td>False</td>\n",
       "      <td>False</td>\n",
       "      <td>False</td>\n",
       "      <td>False</td>\n",
       "      <td>False</td>\n",
       "    </tr>\n",
       "    <tr>\n",
       "      <th>2</th>\n",
       "      <td>0</td>\n",
       "      <td>METHOD1</td>\n",
       "      <td>No</td>\n",
       "      <td>Yes</td>\n",
       "      <td>6</td>\n",
       "      <td>False</td>\n",
       "      <td>False</td>\n",
       "      <td>False</td>\n",
       "      <td>False</td>\n",
       "      <td>False</td>\n",
       "      <td>...</td>\n",
       "      <td>False</td>\n",
       "      <td>False</td>\n",
       "      <td>False</td>\n",
       "      <td>False</td>\n",
       "      <td>False</td>\n",
       "      <td>False</td>\n",
       "      <td>False</td>\n",
       "      <td>False</td>\n",
       "      <td>False</td>\n",
       "      <td>False</td>\n",
       "    </tr>\n",
       "    <tr>\n",
       "      <th>3</th>\n",
       "      <td>0</td>\n",
       "      <td>METHOD1</td>\n",
       "      <td>No</td>\n",
       "      <td>Yes</td>\n",
       "      <td>7</td>\n",
       "      <td>False</td>\n",
       "      <td>False</td>\n",
       "      <td>False</td>\n",
       "      <td>False</td>\n",
       "      <td>False</td>\n",
       "      <td>...</td>\n",
       "      <td>False</td>\n",
       "      <td>False</td>\n",
       "      <td>False</td>\n",
       "      <td>False</td>\n",
       "      <td>False</td>\n",
       "      <td>False</td>\n",
       "      <td>False</td>\n",
       "      <td>False</td>\n",
       "      <td>False</td>\n",
       "      <td>False</td>\n",
       "    </tr>\n",
       "    <tr>\n",
       "      <th>4</th>\n",
       "      <td>0</td>\n",
       "      <td>METHOD1</td>\n",
       "      <td>No</td>\n",
       "      <td>No</td>\n",
       "      <td>5</td>\n",
       "      <td>False</td>\n",
       "      <td>False</td>\n",
       "      <td>False</td>\n",
       "      <td>False</td>\n",
       "      <td>False</td>\n",
       "      <td>...</td>\n",
       "      <td>False</td>\n",
       "      <td>False</td>\n",
       "      <td>False</td>\n",
       "      <td>False</td>\n",
       "      <td>True</td>\n",
       "      <td>False</td>\n",
       "      <td>False</td>\n",
       "      <td>False</td>\n",
       "      <td>False</td>\n",
       "      <td>False</td>\n",
       "    </tr>\n",
       "  </tbody>\n",
       "</table>\n",
       "<p>5 rows × 43 columns</p>\n",
       "</div>"
      ],
      "text/plain": [
       "   AR payment_method client_first_lapp_mark client_first_manual_lapp_mark  \\\n",
       "0   0        METHOD1                    Yes                           Yes   \n",
       "1   0        METHOD1                     No                           Yes   \n",
       "2   0        METHOD1                     No                           Yes   \n",
       "3   0        METHOD1                     No                           Yes   \n",
       "4   0        METHOD1                     No                            No   \n",
       "\n",
       "   warning_count  address_check_1  address_check_2  address_check_3  \\\n",
       "0              2            False            False            False   \n",
       "1              2            False            False            False   \n",
       "2              6            False            False            False   \n",
       "3              7            False            False            False   \n",
       "4              5            False            False            False   \n",
       "\n",
       "   address_check_4  accounts_check_5  ...  other_29  data_quality_30  \\\n",
       "0            False             False  ...     False            False   \n",
       "1            False             False  ...     False            False   \n",
       "2            False             False  ...     False            False   \n",
       "3            False             False  ...     False            False   \n",
       "4            False             False  ...     False            False   \n",
       "\n",
       "   other_31  data_quality_32  data_quality_33  data_quality_34  \\\n",
       "0     False            False            False            False   \n",
       "1     False            False            False            False   \n",
       "2     False            False            False            False   \n",
       "3     False            False            False            False   \n",
       "4     False            False             True            False   \n",
       "\n",
       "   data_quality_35  other_36  accounts_check_37  accounts_check_38  \n",
       "0            False     False              False              False  \n",
       "1            False     False              False              False  \n",
       "2            False     False              False              False  \n",
       "3            False     False              False              False  \n",
       "4            False     False              False              False  \n",
       "\n",
       "[5 rows x 43 columns]"
      ]
     },
     "execution_count": 109,
     "metadata": {},
     "output_type": "execute_result"
    }
   ],
   "source": [
    "\n",
    "# Droping application_id\n",
    "\n",
    "loan = loan.drop('application_id', axis=1)\n",
    "loan.head()"
   ]
  },
  {
   "cell_type": "markdown",
   "metadata": {},
   "source": [
    "### Exploratory Data Analysis"
   ]
  },
  {
   "cell_type": "code",
   "execution_count": 110,
   "metadata": {},
   "outputs": [
    {
     "data": {
      "text/html": [
       "<div>\n",
       "<style scoped>\n",
       "    .dataframe tbody tr th:only-of-type {\n",
       "        vertical-align: middle;\n",
       "    }\n",
       "\n",
       "    .dataframe tbody tr th {\n",
       "        vertical-align: top;\n",
       "    }\n",
       "\n",
       "    .dataframe thead th {\n",
       "        text-align: right;\n",
       "    }\n",
       "</style>\n",
       "<table border=\"1\" class=\"dataframe\">\n",
       "  <thead>\n",
       "    <tr style=\"text-align: right;\">\n",
       "      <th></th>\n",
       "      <th>AR</th>\n",
       "      <th>warning_count</th>\n",
       "    </tr>\n",
       "  </thead>\n",
       "  <tbody>\n",
       "    <tr>\n",
       "      <th>count</th>\n",
       "      <td>9898.000000</td>\n",
       "      <td>9898.000000</td>\n",
       "    </tr>\n",
       "    <tr>\n",
       "      <th>mean</th>\n",
       "      <td>0.342999</td>\n",
       "      <td>5.136593</td>\n",
       "    </tr>\n",
       "    <tr>\n",
       "      <th>std</th>\n",
       "      <td>0.474735</td>\n",
       "      <td>2.377723</td>\n",
       "    </tr>\n",
       "    <tr>\n",
       "      <th>min</th>\n",
       "      <td>0.000000</td>\n",
       "      <td>1.000000</td>\n",
       "    </tr>\n",
       "    <tr>\n",
       "      <th>25%</th>\n",
       "      <td>0.000000</td>\n",
       "      <td>3.000000</td>\n",
       "    </tr>\n",
       "    <tr>\n",
       "      <th>50%</th>\n",
       "      <td>0.000000</td>\n",
       "      <td>5.000000</td>\n",
       "    </tr>\n",
       "    <tr>\n",
       "      <th>75%</th>\n",
       "      <td>1.000000</td>\n",
       "      <td>7.000000</td>\n",
       "    </tr>\n",
       "    <tr>\n",
       "      <th>max</th>\n",
       "      <td>1.000000</td>\n",
       "      <td>16.000000</td>\n",
       "    </tr>\n",
       "  </tbody>\n",
       "</table>\n",
       "</div>"
      ],
      "text/plain": [
       "                AR  warning_count\n",
       "count  9898.000000    9898.000000\n",
       "mean      0.342999       5.136593\n",
       "std       0.474735       2.377723\n",
       "min       0.000000       1.000000\n",
       "25%       0.000000       3.000000\n",
       "50%       0.000000       5.000000\n",
       "75%       1.000000       7.000000\n",
       "max       1.000000      16.000000"
      ]
     },
     "execution_count": 110,
     "metadata": {},
     "output_type": "execute_result"
    }
   ],
   "source": [
    "loan.describe()\n"
   ]
  },
  {
   "cell_type": "markdown",
   "metadata": {},
   "source": [
    "Distribution of the Target Variable (AR)"
   ]
  },
  {
   "cell_type": "code",
   "execution_count": 111,
   "metadata": {},
   "outputs": [
    {
     "data": {
      "text/plain": [
       "AR\n",
       "0    6503\n",
       "1    3395\n",
       "Name: count, dtype: int64"
      ]
     },
     "execution_count": 111,
     "metadata": {},
     "output_type": "execute_result"
    }
   ],
   "source": [
    "# Checking how many classes are there.\n",
    "loan[\"AR\"].value_counts()"
   ]
  },
  {
   "cell_type": "code",
   "execution_count": 112,
   "metadata": {},
   "outputs": [
    {
     "data": {
      "image/png": "[encoded data removed]",
      "text/plain": [
       "<Figure size 800x400 with 1 Axes>"
      ]
     },
     "metadata": {},
     "output_type": "display_data"
    }
   ],
   "source": [
    "# Plotting the distribution of the target variable(AR)\n",
    "plt.figure(figsize=(8, 4))\n",
    "sns.countplot(x='AR', data=loan, palette='Set1')\n",
    "plt.title('Distribution of Target Variable (AR)')\n",
    "plt.xlabel('AR')\n",
    "plt.ylabel('Count')\n",
    "plt.legend(labels=['Approved (AR = 0)', 'Rejected (AR = 1)'], loc='upper right')\n",
    "\n",
    "plt.show()\n"
   ]
  },
  {
   "cell_type": "markdown",
   "metadata": {},
   "source": [
    "### Bivariate Analysis"
   ]
  },
  {
   "cell_type": "code",
   "execution_count": 113,
   "metadata": {},
   "outputs": [
    {
     "data": {
      "image/png": "[encoded data removed]",
      "text/plain": [
       "<Figure size 800x400 with 1 Axes>"
      ]
     },
     "metadata": {},
     "output_type": "display_data"
    }
   ],
   "source": [
    "# AR vs Client First Lapp Mark\n",
    "\n",
    "plt.figure(figsize=(8, 4))\n",
    "sns.countplot(x='client_first_lapp_mark', hue='AR', data=loan, palette='Set2')\n",
    "plt.title('AR vs Client First Lapp Mark')\n",
    "plt.xlabel('Client First Lapp Mark')\n",
    "plt.ylabel('Count')\n",
    "plt.legend(labels=['Approved', 'Rejected'])\n",
    "plt.show()\n"
   ]
  },
  {
   "cell_type": "markdown",
   "metadata": {},
   "source": [
    "- The countplot visually contrasts loan approval outcomes (AR) based on whether applicants have a prior loan application (client_first_lapp_mark), aiming to uncover actionable insights for enhancing approval processes."
   ]
  },
  {
   "cell_type": "code",
   "execution_count": 114,
   "metadata": {},
   "outputs": [
    {
     "data": {
      "image/png": "[encoded data removed]",
      "text/plain": [
       "<Figure size 800x400 with 1 Axes>"
      ]
     },
     "metadata": {},
     "output_type": "display_data"
    }
   ],
   "source": [
    "# AR vs Warning Count (Numerical Analysis)\n",
    "\n",
    "plt.figure(figsize=(8, 4))\n",
    "sns.boxplot(x='AR', y='warning_count', data=loan, palette='Set3')\n",
    "plt.title('AR vs Warning Count')\n",
    "plt.xlabel('AR')\n",
    "plt.ylabel('Warning Count')\n",
    "plt.xticks([0, 1], ['Approved', 'Rejected'])\n",
    "plt.show()\n"
   ]
  },
  {
   "cell_type": "markdown",
   "metadata": {},
   "source": [
    "- These box plot will give insights to optimize the loan approval process, ensuring that decisions are fair, consistent, and aligned with risk management objectives."
   ]
  },
  {
   "cell_type": "markdown",
   "metadata": {},
   "source": [
    "## Data Preprocessing"
   ]
  },
  {
   "cell_type": "markdown",
   "metadata": {},
   "source": [
    "### Encoding"
   ]
  },
  {
   "cell_type": "code",
   "execution_count": 115,
   "metadata": {},
   "outputs": [],
   "source": [
    "#  columns to encode\n",
    "\n",
    "from sklearn.preprocessing import LabelEncoder\n",
    "\n",
    "categorical_columns = ['payment_method', 'client_first_lapp_mark', 'client_first_manual_lapp_mark']\n",
    "boolean_columns = loan.select_dtypes(include=['bool']).columns\n",
    "\n",
    "\n",
    "\n",
    "# coping of the DataFrame for encoding\n",
    "loan_encoded = loan.copy()\n",
    "\n",
    "\n",
    "# Labeling encoding for categorical columns\n",
    "label_encoders = {}\n",
    "for column in categorical_columns:\n",
    "    le = LabelEncoder()\n",
    "    loan_encoded[column] = le.fit_transform(loan_encoded[column])\n",
    "    label_encoders[column] = le\n",
    "\n",
    "\n",
    "# Converting boolean columns to integers\n",
    "loan_encoded[boolean_columns] = loan_encoded[boolean_columns].astype(int)"
   ]
  },
  {
   "cell_type": "markdown",
   "metadata": {},
   "source": [
    "### Handling class imbalance"
   ]
  },
  {
   "cell_type": "code",
   "execution_count": 116,
   "metadata": {},
   "outputs": [
    {
     "name": "stdout",
     "output_type": "stream",
     "text": [
      "AR\n",
      "0    6503\n",
      "1    6503\n",
      "Name: count, dtype: int64\n"
     ]
    }
   ],
   "source": [
    "from imblearn.over_sampling import SMOTE\n",
    "\n",
    "# Separating features and target variable\n",
    "X = loan_encoded.drop('AR', axis=1)\n",
    "y = loan_encoded['AR']\n",
    "\n",
    "# Applying SMOTE\n",
    "smote = SMOTE(random_state=42)\n",
    "X_resampled, y_resampled = smote.fit_resample(X, y)\n",
    "\n",
    "\n",
    "# Printing the class distribution after applying SMOTE\n",
    "print(y_resampled.value_counts())\n",
    "\n",
    "\n"
   ]
  },
  {
   "cell_type": "markdown",
   "metadata": {},
   "source": [
    "### Train-Test Split"
   ]
  },
  {
   "cell_type": "code",
   "execution_count": 117,
   "metadata": {},
   "outputs": [],
   "source": [
    "from sklearn.model_selection import train_test_split\n",
    "\n",
    "X_train, X_test, y_train, y_test = train_test_split(X, y, test_size=0.2, random_state=42)\n"
   ]
  },
  {
   "cell_type": "markdown",
   "metadata": {},
   "source": [
    "### Feature Scaling"
   ]
  },
  {
   "cell_type": "code",
   "execution_count": 118,
   "metadata": {},
   "outputs": [],
   "source": [
    "from sklearn.preprocessing import StandardScaler\n",
    "\n",
    "scaler = StandardScaler()\n",
    "X_train_scaled = scaler.fit_transform(X_train)\n",
    "X_test_scaled = scaler.transform(X_test)\n"
   ]
  },
  {
   "cell_type": "markdown",
   "metadata": {},
   "source": [
    "## Modelling\n",
    "### Baseline Model: Logistic Regression"
   ]
  },
  {
   "cell_type": "code",
   "execution_count": 119,
   "metadata": {},
   "outputs": [
    {
     "name": "stdout",
     "output_type": "stream",
     "text": [
      "Accuracy Score: 0.7404040404040404\n",
      "\n",
      "Classification Report:\n",
      "               precision    recall  f1-score   support\n",
      "\n",
      "           0       0.77      0.87      0.82      1305\n",
      "           1       0.66      0.49      0.56       675\n",
      "\n",
      "    accuracy                           0.74      1980\n",
      "   macro avg       0.71      0.68      0.69      1980\n",
      "weighted avg       0.73      0.74      0.73      1980\n",
      "\n"
     ]
    },
    {
     "data": {
      "image/png": "[encoded data removed]",
      "text/plain": [
       "<Figure size 800x400 with 2 Axes>"
      ]
     },
     "metadata": {},
     "output_type": "display_data"
    }
   ],
   "source": [
    "from sklearn.linear_model import LogisticRegression\n",
    "from sklearn.metrics import classification_report, confusion_matrix, accuracy_score\n",
    "\n",
    "# Fiting the logistic regression model\n",
    "log_reg = LogisticRegression(random_state=42)\n",
    "log_reg.fit(X_train_scaled, y_train)\n",
    "\n",
    "# Making predictions\n",
    "y_pred = log_reg.predict(X_test_scaled)\n",
    "\n",
    "# Calculating the confusion matrix\n",
    "conf_matrix = confusion_matrix(y_test, y_pred)\n",
    "\n",
    "# Calculating accuracy score and classification report\n",
    "accuracy = accuracy_score(y_test, y_pred)\n",
    "class_report = classification_report(y_test, y_pred)\n",
    "\n",
    "# Printing accuracy score and classification report\n",
    "print(\"Accuracy Score:\", accuracy)\n",
    "print(\"\\nClassification Report:\\n\", class_report)\n",
    "\n",
    "# Ploting the confusion matrix\n",
    "plt.figure(figsize=(8, 4))\n",
    "sns.heatmap(conf_matrix, annot=True, fmt='d', cmap='Blues', \n",
    "            xticklabels=['No AR', 'AR'], yticklabels=['No AR', 'AR'])\n",
    "plt.xlabel('Predicted')\n",
    "plt.ylabel('Actual')\n",
    "plt.title('Confusion Matrix')\n",
    "plt.show()\n"
   ]
  },
  {
   "cell_type": "code",
   "execution_count": 120,
   "metadata": {},
   "outputs": [
    {
     "name": "stdout",
     "output_type": "stream",
     "text": [
      "Training Accuracy: 0.7267\n",
      "Test Accuracy: 0.7404\n"
     ]
    }
   ],
   "source": [
    "# Training accuracy\n",
    "train_accuracy = accuracy_score(y_train, log_reg.predict(X_train_scaled))\n",
    "print(f\"Training Accuracy: {train_accuracy:.4f}\")\n",
    "\n",
    "# Test accuracy\n",
    "test_accuracy = accuracy_score(y_test, y_pred)\n",
    "print(f\"Test Accuracy: {test_accuracy:.4f}\")\n"
   ]
  },
  {
   "cell_type": "markdown",
   "metadata": {},
   "source": [
    "### Random Forest"
   ]
  },
  {
   "cell_type": "code",
   "execution_count": 121,
   "metadata": {},
   "outputs": [
    {
     "name": "stdout",
     "output_type": "stream",
     "text": [
      "Accuracy Score: 0.7217\n",
      "\n",
      "Confusion Matrix:\n",
      " [[1078  227]\n",
      " [ 324  351]]\n",
      "\n",
      "Classification Report:\n",
      "               precision    recall  f1-score   support\n",
      "\n",
      "           0       0.77      0.83      0.80      1305\n",
      "           1       0.61      0.52      0.56       675\n",
      "\n",
      "    accuracy                           0.72      1980\n",
      "   macro avg       0.69      0.67      0.68      1980\n",
      "weighted avg       0.71      0.72      0.72      1980\n",
      "\n"
     ]
    }
   ],
   "source": [
    "from sklearn.ensemble import RandomForestClassifier\n",
    "\n",
    "\n",
    "# Initializing the Random Forest classifier\n",
    "rf_clf = RandomForestClassifier(random_state=42)\n",
    "\n",
    "# Fiting the model on the training data\n",
    "rf_clf.fit(X_train, y_train)\n",
    "\n",
    "# Predicting on the test data\n",
    "y_pred = rf_clf.predict(X_test)\n",
    "\n",
    "# Evaluating the model\n",
    "accuracy = accuracy_score(y_test, y_pred)\n",
    "print(f\"Accuracy Score: {accuracy:.4f}\\n\")\n",
    "\n",
    "conf_matrix = confusion_matrix(y_test, y_pred)\n",
    "print(f\"Confusion Matrix:\\n {conf_matrix}\\n\")\n",
    "\n",
    "class_report = classification_report(y_test, y_pred)\n",
    "print(f\"Classification Report:\\n {class_report}\")\n"
   ]
  },
  {
   "cell_type": "markdown",
   "metadata": {},
   "source": [
    "### Support Vector Machine"
   ]
  },
  {
   "cell_type": "code",
   "execution_count": 122,
   "metadata": {},
   "outputs": [
    {
     "name": "stdout",
     "output_type": "stream",
     "text": [
      "Accuracy Score: 0.7354\n",
      "\n",
      "Confusion Matrix:\n",
      " [[1125  180]\n",
      " [ 344  331]]\n",
      "\n",
      "Classification Report:\n",
      "               precision    recall  f1-score   support\n",
      "\n",
      "           0       0.77      0.86      0.81      1305\n",
      "           1       0.65      0.49      0.56       675\n",
      "\n",
      "    accuracy                           0.74      1980\n",
      "   macro avg       0.71      0.68      0.68      1980\n",
      "weighted avg       0.73      0.74      0.72      1980\n",
      "\n"
     ]
    }
   ],
   "source": [
    "from sklearn.svm import SVC\n",
    "\n",
    "\n",
    "# Initializing the SVM classifier\n",
    "svm_clf = SVC(kernel='rbf', random_state=42)  \n",
    "\n",
    "# Fiting the model on the training data\n",
    "svm_clf.fit(X_train, y_train)\n",
    "\n",
    "# Predicting on the test data\n",
    "y_pred = svm_clf.predict(X_test)\n",
    "\n",
    "# Evaluating the model\n",
    "accuracy = accuracy_score(y_test, y_pred)\n",
    "print(f\"Accuracy Score: {accuracy:.4f}\\n\")\n",
    "\n",
    "conf_matrix = confusion_matrix(y_test, y_pred)\n",
    "print(f\"Confusion Matrix:\\n {conf_matrix}\\n\")\n",
    "\n",
    "class_report = classification_report(y_test, y_pred)\n",
    "print(f\"Classification Report:\\n {class_report}\")\n"
   ]
  },
  {
   "cell_type": "markdown",
   "metadata": {},
   "source": [
    "### XG BOOST"
   ]
  },
  {
   "cell_type": "code",
   "execution_count": 123,
   "metadata": {},
   "outputs": [
    {
     "name": "stdout",
     "output_type": "stream",
     "text": [
      "Accuracy Score: 0.7389\n",
      "\n",
      "Confusion Matrix:\n",
      " [[1111  194]\n",
      " [ 323  352]]\n",
      "\n",
      "Classification Report:\n",
      "               precision    recall  f1-score   support\n",
      "\n",
      "           0       0.77      0.85      0.81      1305\n",
      "           1       0.64      0.52      0.58       675\n",
      "\n",
      "    accuracy                           0.74      1980\n",
      "   macro avg       0.71      0.69      0.69      1980\n",
      "weighted avg       0.73      0.74      0.73      1980\n",
      "\n"
     ]
    }
   ],
   "source": [
    "import xgboost as xgb\n",
    "\n",
    "\n",
    "# Initializing the XGBClassifier\n",
    "xgb_clf = xgb.XGBClassifier(random_state=42)\n",
    "\n",
    "# Fitting the model on the training data\n",
    "xgb_clf.fit(X_train, y_train)\n",
    "\n",
    "# Predicting on the test data\n",
    "y_pred = xgb_clf.predict(X_test)\n",
    "\n",
    "# Evaluating the model\n",
    "accuracy = accuracy_score(y_test, y_pred)\n",
    "print(f\"Accuracy Score: {accuracy:.4f}\\n\")\n",
    "\n",
    "conf_matrix = confusion_matrix(y_test, y_pred)\n",
    "print(f\"Confusion Matrix:\\n {conf_matrix}\\n\")\n",
    "\n",
    "class_report = classification_report(y_test, y_pred)\n",
    "print(f\"Classification Report:\\n {class_report}\")\n"
   ]
  },
  {
   "cell_type": "markdown",
   "metadata": {},
   "source": [
    "### Hyperparameter Tuning (Logistic Regression)"
   ]
  },
  {
   "cell_type": "code",
   "execution_count": 124,
   "metadata": {},
   "outputs": [
    {
     "name": "stdout",
     "output_type": "stream",
     "text": [
      "Fitting 5 folds for each of 24 candidates, totalling 120 fits\n",
      "Best Parameters: {'C': 0.1, 'penalty': 'l1', 'solver': 'liblinear'}\n",
      "Best CV Score: 0.7230372263379212\n"
     ]
    }
   ],
   "source": [
    "from sklearn.model_selection import GridSearchCV\n",
    "\n",
    "# Defining the parameters grid\n",
    "param_grid = {\n",
    "    'C': [0.001, 0.01, 0.1, 1, 10, 100],  # Regularization parameter\n",
    "    'penalty': ['l1', 'l2'],              # Regularization penalty ('l1' or 'l2')\n",
    "    'solver': ['liblinear', 'saga']       # Optimization algorithm\n",
    "}\n",
    "\n",
    "# Initializing GridSearchCV\n",
    "grid_search = GridSearchCV(estimator=LogisticRegression(random_state=42),\n",
    "                           param_grid=param_grid,\n",
    "                           cv=5,  # 5-fold cross-validation\n",
    "                           scoring='accuracy',\n",
    "                           verbose=1,\n",
    "                           n_jobs=-1)  \n",
    "\n",
    "# Fitting GridSearchCV\n",
    "grid_search.fit(X_train_scaled, y_train)\n",
    "\n",
    "# Best parameters and best score\n",
    "print(\"Best Parameters:\", grid_search.best_params_)\n",
    "print(\"Best CV Score:\", grid_search.best_score_)\n"
   ]
  },
  {
   "cell_type": "code",
   "execution_count": 125,
   "metadata": {},
   "outputs": [
    {
     "name": "stdout",
     "output_type": "stream",
     "text": [
      "Tuned Model Accuracy Score: 0.7404040404040404\n",
      "\n",
      "Tuned Model Confusion Matrix:\n",
      " [[1136  169]\n",
      " [ 345  330]]\n",
      "\n",
      "Tuned Model Classification Report:\n",
      "               precision    recall  f1-score   support\n",
      "\n",
      "           0       0.77      0.87      0.82      1305\n",
      "           1       0.66      0.49      0.56       675\n",
      "\n",
      "    accuracy                           0.74      1980\n",
      "   macro avg       0.71      0.68      0.69      1980\n",
      "weighted avg       0.73      0.74      0.73      1980\n",
      "\n"
     ]
    }
   ],
   "source": [
    "# Using the best parameters found by GridSearchCV \n",
    "best_log_reg = grid_search.best_estimator_  \n",
    "\n",
    "# Retraining with best parameters\n",
    "best_log_reg.fit(X_train_scaled, y_train)\n",
    "\n",
    "# Predicting on test data\n",
    "y_pred_tuned = best_log_reg.predict(X_test_scaled)\n",
    "\n",
    "# Evaluating the tuned model\n",
    "print(\"Tuned Model Accuracy Score:\", accuracy_score(y_test, y_pred_tuned))\n",
    "print(\"\\nTuned Model Confusion Matrix:\\n\", confusion_matrix(y_test, y_pred_tuned))\n",
    "print(\"\\nTuned Model Classification Report:\\n\", classification_report(y_test, y_pred_tuned))\n"
   ]
  },
  {
   "cell_type": "markdown",
   "metadata": {},
   "source": [
    "#### The best performing model is Logistic Regression Model"
   ]
  },
  {
   "cell_type": "markdown",
   "metadata": {},
   "source": [
    "### Calculating the threshhold"
   ]
  },
  {
   "cell_type": "code",
   "execution_count": 126,
   "metadata": {},
   "outputs": [
    {
     "name": "stdout",
     "output_type": "stream",
     "text": [
      "Best Threshold: 0.59, Minimum Cost: 17448 EUR\n"
     ]
    }
   ],
   "source": [
    "\n",
    "\n",
    "\n",
    "# Get predicted probabilities\n",
    "y_prob = log_reg.predict_proba(X_test_scaled)[:, 1]\n",
    "\n",
    "# Initializing the  variables\n",
    "thresholds = np.arange(0.0, 1.0, 0.01)\n",
    "best_threshold = 0\n",
    "min_cost = float('inf')\n",
    "\n",
    "for threshold in thresholds:\n",
    "    # Getting predicted labels based on threshold\n",
    "    y_pred_threshold = (y_prob >= threshold).astype(int)\n",
    "    \n",
    "    # Calculating confusion matrix\n",
    "    TN, FP, FN, TP = confusion_matrix(y_test, y_pred_threshold).ravel()\n",
    "    \n",
    "    # Calculating costs\n",
    "    labor_cost = 5 * len(y_test)  # Cost for processing all applications\n",
    "    loss_FP = 17 * FP\n",
    "    loss_FN = 14 * FN\n",
    "    total_cost = labor_cost + loss_FP + loss_FN\n",
    "    \n",
    "    # Checking if this is the best threshold\n",
    "    if total_cost < min_cost:\n",
    "        min_cost = total_cost\n",
    "        best_threshold = threshold\n",
    "\n",
    "print(f'Best Threshold: {best_threshold}, Minimum Cost: {min_cost} EUR')\n"
   ]
  },
  {
   "cell_type": "code",
   "execution_count": 127,
   "metadata": {},
   "outputs": [
    {
     "data": {
      "image/png": "[encoded data removed]",
      "text/plain": [
       "<Figure size 800x600 with 1 Axes>"
      ]
     },
     "metadata": {},
     "output_type": "display_data"
    }
   ],
   "source": [
    "\n",
    "from sklearn.metrics import roc_curve, roc_auc_score\n",
    "\n",
    "# ROC Curve\n",
    "fpr, tpr, thresholds = roc_curve(y_test, y_prob)\n",
    "roc_auc = roc_auc_score(y_test, y_prob)\n",
    "\n",
    "plt.figure(figsize=(8, 6))\n",
    "plt.plot(fpr, tpr, color='blue', label=f'ROC curve (area = {roc_auc:.2f})')\n",
    "plt.plot([0, 1], [0, 1], color='grey', linestyle='--')\n",
    "plt.xlabel('False Positive Rate')\n",
    "plt.ylabel('True Positive Rate')\n",
    "plt.title('Receiver Operating Characteristic (ROC) Curve')\n",
    "plt.legend(loc='lower right')\n",
    "plt.show()\n",
    "\n",
    "\n"
   ]
  },
  {
   "cell_type": "markdown",
   "metadata": {},
   "source": [
    "- An AUC of 0.81 suggests that there is a 81% chance that the model will be able to distinguish between positive and negative classes."
   ]
  },
  {
   "cell_type": "markdown",
   "metadata": {},
   "source": [
    "### Cost vs Threshhold"
   ]
  },
  {
   "cell_type": "code",
   "execution_count": 128,
   "metadata": {},
   "outputs": [
    {
     "data": {
      "image/png": "[encoded data removed]",
      "text/plain": [
       "<Figure size 800x600 with 1 Axes>"
      ]
     },
     "metadata": {},
     "output_type": "display_data"
    }
   ],
   "source": [
    "# Cost vs. Threshold Plot\n",
    "costs = []\n",
    "for threshold in np.arange(0.0, 1.0, 0.01):\n",
    "    y_pred_threshold = (y_prob >= threshold).astype(int)\n",
    "    TN, FP, FN, TP = confusion_matrix(y_test, y_pred_threshold).ravel()\n",
    "    labor_cost = 5 * len(y_test)\n",
    "    loss_FP = 17 * FP\n",
    "    loss_FN = 14 * FN\n",
    "    total_cost = labor_cost + loss_FP + loss_FN\n",
    "    costs.append(total_cost)\n",
    "\n",
    "plt.figure(figsize=(8, 6))\n",
    "plt.plot(np.arange(0.0, 1.0, 0.01), costs, color='blue', label='Total Cost')\n",
    "plt.axvline(x=0.59, color='red', linestyle='--', label='Optimal Threshold (0.59)')\n",
    "plt.xlabel('Threshold')\n",
    "plt.ylabel('Total Cost (EUR)')\n",
    "plt.title('Total Cost vs. Threshold')\n",
    "plt.legend(loc='upper right')\n",
    "plt.show()\n"
   ]
  },
  {
   "cell_type": "markdown",
   "metadata": {},
   "source": [
    "### Business Impact Analysis"
   ]
  },
  {
   "cell_type": "code",
   "execution_count": 129,
   "metadata": {},
   "outputs": [
    {
     "data": {
      "image/png": "[encoded data removed]",
      "text/plain": [
       "<Figure size 800x400 with 1 Axes>"
      ]
     },
     "metadata": {},
     "output_type": "display_data"
    }
   ],
   "source": [
    "# Costs with the model (using optimal threshold)\n",
    "labor_cost_model = 5 * (TP + FP + TN + FN)  # Total labor cost for all applications\n",
    "\n",
    "#  costs per instance\n",
    "cost_FP = 17  # Cost per false positive\n",
    "cost_FN = 14  # Cost per false negative\n",
    "\n",
    "total_cost_model = labor_cost_model + (cost_FP * FP) + (cost_FN * FN)\n",
    "\n",
    "# Costs without the model (processing all applications)\n",
    "total_cost_without_model = labor_cost_model + (cost_FP * (FP + TN)) + (cost_FN * (FN + TP))\n",
    "\n",
    "# Visualizing the comparison\n",
    "categories = ['With Model', 'Without Model']\n",
    "costs = [total_cost_model, total_cost_without_model]\n",
    "\n",
    "plt.figure(figsize=(8, 4))\n",
    "plt.bar(categories, costs, color=['blue', 'orange'])\n",
    "plt.ylabel('Total Cost (EUR)')\n",
    "plt.title('Business Impact Analysis: Cost Comparison')\n",
    "plt.ylim(0, max(costs) * 1.2)  \n",
    "plt.show()\n"
   ]
  },
  {
   "cell_type": "markdown",
   "metadata": {},
   "source": [
    "### The visualization vividly demonstrates the financial advantages of deploying the Logistic Regression Model for loan approval decisions"
   ]
  }
 ],
 "metadata": {
  "kernelspec": {
   "display_name": "base",
   "language": "python",
   "name": "python3"
  },
  "language_info": {
   "codemirror_mode": {
    "name": "ipython",
    "version": 3
   },
   "file_extension": ".py",
   "mimetype": "text/x-python",
   "name": "python",
   "nbconvert_exporter": "python",
   "pygments_lexer": "ipython3",
   "version": "3.11.5"
  }
 },
 "nbformat": 4,
 "nbformat_minor": 2
}
